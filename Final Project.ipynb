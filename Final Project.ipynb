{
 "cells": [
  {
   "cell_type": "markdown",
   "metadata": {},
   "source": [
    "### Librerias"
   ]
  },
  {
   "cell_type": "code",
   "execution_count": 1,
   "metadata": {},
   "outputs": [],
   "source": [
    "import credentials\n",
    "import tweepy\n",
    "import pandas as pd\n",
    "import numpy as np\n",
    "import seaborn as sns\n",
    "import spacy\n",
    "import matplotlib.pyplot as plt\n",
    "%matplotlib inline\n",
    "from textblob import TextBlob\n",
    "from tqdm import tqdm"
   ]
  },
  {
   "cell_type": "markdown",
   "metadata": {},
   "source": [
    "### Api"
   ]
  },
  {
   "cell_type": "code",
   "execution_count": 2,
   "metadata": {},
   "outputs": [],
   "source": [
    "from collections import Counter\n",
    "from imblearn.over_sampling import RandomOverSampler\n",
    "from utils.text_analysis import TextAnalysis\n",
    "\n",
    "from sklearn.feature_extraction.text import CountVectorizer\n",
    "from sklearn.feature_extraction.text import TfidfVectorizer\n",
    "from sklearn.model_selection import train_test_split\n",
    "from sklearn.linear_model import LogisticRegression \n",
    "from sklearn.model_selection import cross_val_score\n",
    "from sklearn.metrics import accuracy_score, recall_score, f1_score, precision_score\n",
    "from sklearn import metrics\n",
    "from sklearn.metrics import classification_report\n",
    "from sklearn.metrics import confusion_matrix"
   ]
  },
  {
   "cell_type": "markdown",
   "metadata": {},
   "source": [
    "### Autentificación con Twitter"
   ]
  },
  {
   "cell_type": "code",
   "execution_count": 3,
   "metadata": {},
   "outputs": [],
   "source": [
    "auth = tweepy.OAuthHandler(credentials.API_key, credentials.API_secret_key)\n",
    "auth.set_access_token(credentials.Access_token, credentials.Access_token_secret)\n",
    "api = tweepy.API(auth)"
   ]
  },
  {
   "cell_type": "markdown",
   "metadata": {},
   "source": [
    "### Obtención de Tweets"
   ]
  },
  {
   "cell_type": "code",
   "execution_count": 4,
   "metadata": {},
   "outputs": [
    {
     "name": "stderr",
     "output_type": "stream",
     "text": [
      "100%|████████████████████████████████████████████████████████████████████████████████████████████████████████████████████████| 3/3 [03:46<00:00, 75.67s/it]"
     ]
    },
    {
     "name": "stdout",
     "output_type": "stream",
     "text": [
      "Cantidad Total de tweets: 6521\n",
      "Cantidad de Total ReTweets: 1167\n",
      "\n",
      "\n",
      "*** TWEETS POR CUENTA ***\n",
      "1297 tweets para la cuenta @realDonaldTrump.\n",
      "2520 tweets para la cuenta @JoeBiden.\n",
      "2704 tweets para la cuenta @BarackObama.\n"
     ]
    },
    {
     "name": "stderr",
     "output_type": "stream",
     "text": [
      "\n"
     ]
    }
   ],
   "source": [
    "twitterAccounts = ['@realDonaldTrump','@JoeBiden', '@BarackObama']\n",
    "userTweets = []\n",
    "tweetsPerPresidents = {}\n",
    "numTweets = 0\n",
    "numRT = 0\n",
    "id = None\n",
    "for account in tqdm(twitterAccounts):\n",
    "    tweetsPerAccount = []\n",
    "    for i in range(160):\n",
    "        tweets = api.user_timeline(account, tweet_mode='extended', max_id=id)\n",
    "        for tweet in tweets:\n",
    "            numTweets += 1\n",
    "            if tweet.full_text.startswith('RT'):\n",
    "                numRT += 1\n",
    "                continue\n",
    "            userTweets.append(tweet.full_text)\n",
    "            tweetsPerAccount.append(tweet.full_text)\n",
    "        id = tweet.id \n",
    "    tweetsPerPresidents[account] = tweetsPerAccount\n",
    "print('Cantidad Total de tweets: {}'.format(len(userTweets)))\n",
    "print('Cantidad de Total ReTweets: {}'.format(numRT))\n",
    "print('\\n\\n*** TWEETS POR CUENTA ***')\n",
    "for key in tweetsPerPresidents:\n",
    "    print('{} tweets para la cuenta {}.'.format(len(tweetsPerPresidents[key]), key))"
   ]
  },
  {
   "cell_type": "markdown",
   "metadata": {},
   "source": [
    "### Guardar Tweets en un txt"
   ]
  },
  {
   "cell_type": "code",
   "execution_count": 5,
   "metadata": {},
   "outputs": [
    {
     "name": "stdout",
     "output_type": "stream",
     "text": [
      "Archivo de Tweets creado satisfactoriamente.\n"
     ]
    }
   ],
   "source": [
    "file = open('Tweets.txt', 'w+', encoding=\"utf-8\")\n",
    "for tweet in userTweets:\n",
    "    file.write('{}\\n'.format(tweet))\n",
    "file.close()\n",
    "print('Archivo de Tweets creado satisfactoriamente.')"
   ]
  },
  {
   "cell_type": "markdown",
   "metadata": {},
   "source": [
    "### Categorizar Tweets en Positivos, Neutros y Negativos"
   ]
  },
  {
   "cell_type": "markdown",
   "metadata": {},
   "source": [
    "### De forma general"
   ]
  },
  {
   "cell_type": "code",
   "execution_count": 6,
   "metadata": {},
   "outputs": [
    {
     "data": {
      "image/png": "[encoded data removed]",
      "text/plain": [
       "<Figure size 720x720 with 1 Axes>"
      ]
     },
     "metadata": {
      "needs_background": "light"
     },
     "output_type": "display_data"
    }
   ],
   "source": [
    "values = []\n",
    "for tweets in userTweets:\n",
    "    text = TextBlob(tweets)\n",
    "    # los valores 'text' y 'text.sentiment.polarity' tienen que ir dentro de parentesis\n",
    "    values.append((text, text.sentiment.polarity))\n",
    "\n",
    "df =  pd.DataFrame(values, columns = ['sentence','sentiment'])\n",
    "\n",
    "def f_title(df):\n",
    "    if df['sentiment'] > 0:\n",
    "        val = \"Positive\"\n",
    "    elif df['sentiment'] == 0:\n",
    "        val = \"Neutral\"\n",
    "    else:\n",
    "        val = \"Negative\"\n",
    "    return val\n",
    "\n",
    "df['Tipo de sentimiento'] = df.apply(f_title, axis=1)\n",
    "\n",
    "plt.figure(figsize=(10,10))\n",
    "sns.set_style(\"whitegrid\")\n",
    "ax = sns.countplot(x=\"Tipo de sentimiento\", data=df)\n",
    "sentimentsXaccount = {}\n"
   ]
  },
  {
   "cell_type": "markdown",
   "metadata": {},
   "source": [
    "### Donald Trump"
   ]
  },
  {
   "cell_type": "code",
   "execution_count": 7,
   "metadata": {},
   "outputs": [
    {
     "name": "stdout",
     "output_type": "stream",
     "text": [
      "Categorizacion para la cuenta @realDonaldTrump:\n",
      "\n",
      "\n"
     ]
    },
    {
     "data": {
      "image/png": "[encoded data removed]",
      "text/plain": [
       "<Figure size 720x720 with 1 Axes>"
      ]
     },
     "metadata": {},
     "output_type": "display_data"
    }
   ],
   "source": [
    "values.clear()\n",
    "del df\n",
    "print('Categorizacion para la cuenta @realDonaldTrump:\\n\\n')\n",
    "for tweets in tweetsPerPresidents['@realDonaldTrump']:\n",
    "    text = TextBlob(tweets)\n",
    "    # los valores 'text' y 'text.sentiment.polarity' tienen que ir dentro de parentesis\n",
    "    values.append((text, text.sentiment.polarity))\n",
    "\n",
    "df =  pd.DataFrame(values, columns = ['sentence','sentiment'])\n",
    "\n",
    "def f_title(df):\n",
    "    if df['sentiment'] > 0:\n",
    "        val = \"Positive\"\n",
    "    elif df['sentiment'] == 0:\n",
    "        val = \"Neutral\"\n",
    "    else:\n",
    "        val = \"Negative\"\n",
    "    return val\n",
    "\n",
    "df['Tipo de sentimiento'] = df.apply(f_title, axis=1)\n",
    "sentimentList = df['Tipo de sentimiento'].tolist()\n",
    "sentimentsXaccount['@realDonaldTrump'] = [sentimentList.count('Positive'), sentimentList.count('Neutral'), sentimentList.count('Negative')]\n",
    "plt.figure(figsize=(10,10))\n",
    "sns.set_style(\"whitegrid\")\n",
    "ax = sns.countplot(x=\"Tipo de sentimiento\", data=df)"
   ]
  },
  {
   "cell_type": "markdown",
   "metadata": {},
   "source": [
    "### Joe Biden"
   ]
  },
  {
   "cell_type": "code",
   "execution_count": 8,
   "metadata": {},
   "outputs": [
    {
     "name": "stdout",
     "output_type": "stream",
     "text": [
      "Categorizacion para la cuenta @JoeBiden:\n",
      "\n",
      "\n"
     ]
    },
    {
     "data": {
      "image/png": "[encoded data removed]",
      "text/plain": [
       "<Figure size 720x720 with 1 Axes>"
      ]
     },
     "metadata": {},
     "output_type": "display_data"
    }
   ],
   "source": [
    "del df\n",
    "values.clear()\n",
    "print('Categorizacion para la cuenta @JoeBiden:\\n\\n')\n",
    "for tweets in tweetsPerPresidents['@JoeBiden']:\n",
    "    text = TextBlob(tweets)\n",
    "    # los valores 'text' y 'text.sentiment.polarity' tienen que ir dentro de parentesis\n",
    "    values.append((text, text.sentiment.polarity))\n",
    "\n",
    "df =  pd.DataFrame(values, columns = ['sentence','sentiment'])\n",
    "\n",
    "def f_title(df):\n",
    "    if df['sentiment'] > 0:\n",
    "        val = \"Positive\"\n",
    "    elif df['sentiment'] == 0:\n",
    "        val = \"Neutral\"\n",
    "    else:\n",
    "        val = \"Negative\"\n",
    "    return val\n",
    "\n",
    "df['Tipo de sentimiento'] = df.apply(f_title, axis=1)\n",
    "sentimentList = df['Tipo de sentimiento'].tolist()\n",
    "sentimentsXaccount['@JoeBiden'] = [sentimentList.count('Positive'), sentimentList.count('Neutral'), sentimentList.count('Negative')]\n",
    "plt.figure(figsize=(10,10))\n",
    "sns.set_style(\"whitegrid\")\n",
    "ax = sns.countplot(x=\"Tipo de sentimiento\", data=df)"
   ]
  },
  {
   "cell_type": "markdown",
   "metadata": {},
   "source": [
    "### Barack Obama"
   ]
  },
  {
   "cell_type": "code",
   "execution_count": 9,
   "metadata": {},
   "outputs": [
    {
     "name": "stdout",
     "output_type": "stream",
     "text": [
      "Categorizacion para la cuenta @BarackObama:\n",
      "\n",
      "\n"
     ]
    },
    {
     "data": {
      "image/png": "[encoded data removed]",
      "text/plain": [
       "<Figure size 720x720 with 1 Axes>"
      ]
     },
     "metadata": {},
     "output_type": "display_data"
    }
   ],
   "source": [
    "del df\n",
    "values.clear()\n",
    "print('Categorizacion para la cuenta @BarackObama:\\n\\n')\n",
    "for tweets in tweetsPerPresidents['@BarackObama']:\n",
    "    text = TextBlob(tweets)\n",
    "    # los valores 'text' y 'text.sentiment.polarity' tienen que ir dentro de parentesis\n",
    "    values.append((text, text.sentiment.polarity))\n",
    "\n",
    "df =  pd.DataFrame(values, columns = ['sentence','sentiment'])\n",
    "\n",
    "def f_title(df):\n",
    "    if df['sentiment'] > 0:\n",
    "        val = \"Positive\"\n",
    "    elif df['sentiment'] == 0:\n",
    "        val = \"Neutral\"\n",
    "    else:\n",
    "        val = \"Negative\"\n",
    "    return val\n",
    "\n",
    "df['Tipo de sentimiento'] = df.apply(f_title, axis=1)\n",
    "sentimentList = df['Tipo de sentimiento'].tolist()\n",
    "sentimentsXaccount['@BarackObama'] = [sentimentList.count('Positive'), sentimentList.count('Neutral'), sentimentList.count('Negative')]\n",
    "plt.figure(figsize=(10,10))\n",
    "sns.set_style(\"whitegrid\")\n",
    "ax = sns.countplot(x=\"Tipo de sentimiento\", data=df)"
   ]
  },
  {
   "cell_type": "markdown",
   "metadata": {},
   "source": [
    "### Porcentajes"
   ]
  },
  {
   "cell_type": "code",
   "execution_count": 10,
   "metadata": {},
   "outputs": [
    {
     "name": "stdout",
     "output_type": "stream",
     "text": [
      "*** PORCENTAJE DE EMOCIONALIDAD EN TWEETS *** \n",
      "\n",
      "\n",
      "Para @realDonaldTrump\n",
      "Numero total de tweets: 1297 \n",
      "POS: 523   NEUT: 552   NEG: 222\n",
      "Porcentaje de tweets catalogados POSITIVOS: 40.32382420971473% \n",
      "Porcentaje de tweets catalogados NEUTROS: 42.5597532767926% \n",
      "Porcentaje de tweets catalogados NEGATIVOS: 17.116422513492676%\n",
      "\n",
      "Para @JoeBiden\n",
      "Numero total de tweets: 2520 \n",
      "POS: 1390   NEUT: 697   NEG: 433\n",
      "Porcentaje de tweets catalogados POSITIVOS: 55.15873015873016% \n",
      "Porcentaje de tweets catalogados NEUTROS: 27.658730158730158% \n",
      "Porcentaje de tweets catalogados NEGATIVOS: 17.182539682539684%\n",
      "\n",
      "Para @BarackObama\n",
      "Numero total de tweets: 2704 \n",
      "POS: 1396   NEUT: 1120   NEG: 188\n",
      "Porcentaje de tweets catalogados POSITIVOS: 51.62721893491124% \n",
      "Porcentaje de tweets catalogados NEUTROS: 41.42011834319526% \n",
      "Porcentaje de tweets catalogados NEGATIVOS: 6.952662721893491%\n"
     ]
    }
   ],
   "source": [
    "print('*** PORCENTAJE DE EMOCIONALIDAD EN TWEETS *** \\n')\n",
    "for key in sentimentsXaccount:\n",
    "    amount = len(tweetsPerPresidents[key])\n",
    "    print('\\nPara {}'.format(key))\n",
    "    print('Numero total de tweets: {} \\nPOS: {}   NEUT: {}   NEG: {}'.format(amount, sentimentsXaccount[key][0], sentimentsXaccount[key][1], sentimentsXaccount[key][2]))\n",
    "    print('Porcentaje de tweets catalogados POSITIVOS: {}% \\nPorcentaje de tweets catalogados NEUTROS: {}% \\nPorcentaje de tweets catalogados NEGATIVOS: {}%'.format(((sentimentsXaccount[key][0] * 100)/amount), ((sentimentsXaccount[key][1] * 100)/amount), ((sentimentsXaccount[key][2] * 100)/amount)))"
   ]
  },
  {
   "cell_type": "markdown",
   "metadata": {},
   "source": [
    "### Palabras más usadas"
   ]
  },
  {
   "cell_type": "code",
   "execution_count": 11,
   "metadata": {},
   "outputs": [],
   "source": [
    "nlp = spacy.load(\"en_core_web_md\")"
   ]
  },
  {
   "cell_type": "markdown",
   "metadata": {},
   "source": [
    "### Donald Trump"
   ]
  },
  {
   "cell_type": "code",
   "execution_count": 12,
   "metadata": {},
   "outputs": [
    {
     "name": "stderr",
     "output_type": "stream",
     "text": [
      "100%|██████████████████████████████████████████████████████████████████████████████████████████████████████████████████| 1297/1297 [00:13<00:00, 94.36it/s]\n",
      "C:\\Users\\dberr\\anaconda3\\lib\\site-packages\\seaborn\\_decorators.py:36: FutureWarning: Pass the following variables as keyword args: x, y. From version 0.12, the only valid positional argument will be `data`, and passing other arguments without an explicit keyword will result in an error or misinterpretation.\n",
      "  warnings.warn(\n"
     ]
    },
    {
     "data": {
      "image/png": "[encoded data removed]",
      "text/plain": [
       "<Figure size 1080x360 with 1 Axes>"
      ]
     },
     "metadata": {},
     "output_type": "display_data"
    }
   ],
   "source": [
    "words = {}\n",
    "for row in tqdm(tweetsPerPresidents['@realDonaldTrump']):\n",
    "    doc = nlp(row.lower())\n",
    "    for token in doc:\n",
    "        if token.is_alpha and not token.is_stop:\n",
    "            if token.text in words:\n",
    "                num_temp = int(words[token.text])\n",
    "                words[token.text] = num_temp + 1\n",
    "            else:\n",
    "                words[token.text] = 1\n",
    "df_words = pd.DataFrame([[key, words[key]] for key in words.keys()], columns=['Word', 'Freq'])\n",
    "df_words.sort_values('Freq').tail(15)\n",
    "df_words = df_words[:20]\n",
    "df_words.head(10)\n",
    "plt.figure(figsize=(15,5))\n",
    "sns.barplot(df_words['Word'].values, df_words['Freq'].values)\n",
    "plt.title('Word Frequency')\n",
    "plt.ylabel('Freq', fontsize=10)\n",
    "plt.xlabel('Word', fontsize=10)\n",
    "plt.show()"
   ]
  },
  {
   "cell_type": "markdown",
   "metadata": {},
   "source": [
    "### Joe Biden"
   ]
  },
  {
   "cell_type": "code",
   "execution_count": 13,
   "metadata": {},
   "outputs": [
    {
     "name": "stderr",
     "output_type": "stream",
     "text": [
      "100%|██████████████████████████████████████████████████████████████████████████████████████████████████████████████████| 2520/2520 [00:31<00:00, 80.11it/s]\n",
      "C:\\Users\\dberr\\anaconda3\\lib\\site-packages\\seaborn\\_decorators.py:36: FutureWarning: Pass the following variables as keyword args: x, y. From version 0.12, the only valid positional argument will be `data`, and passing other arguments without an explicit keyword will result in an error or misinterpretation.\n",
      "  warnings.warn(\n"
     ]
    },
    {
     "data": {
      "image/png": "[encoded data removed]",
      "text/plain": [
       "<Figure size 1080x360 with 1 Axes>"
      ]
     },
     "metadata": {},
     "output_type": "display_data"
    }
   ],
   "source": [
    "words = {}\n",
    "for row in tqdm(tweetsPerPresidents['@JoeBiden']):\n",
    "    doc = nlp(row.lower())\n",
    "    for token in doc:\n",
    "        if token.is_alpha and not token.is_stop:\n",
    "            if token.text in words:\n",
    "                num_temp = int(words[token.text])\n",
    "                words[token.text] = num_temp + 1\n",
    "            else:\n",
    "                words[token.text] = 1\n",
    "df_words = pd.DataFrame([[key, words[key]] for key in words.keys()], columns=['Word', 'Freq'])\n",
    "df_words.sort_values('Freq').tail(15)\n",
    "df_words = df_words[:20]\n",
    "df_words.head(10)\n",
    "plt.figure(figsize=(15,5))\n",
    "sns.barplot(df_words['Word'].values, df_words['Freq'].values)\n",
    "plt.title('Word Frequency')\n",
    "plt.ylabel('Freq', fontsize=10)\n",
    "plt.xlabel('Word', fontsize=10)\n",
    "plt.show()"
   ]
  },
  {
   "cell_type": "markdown",
   "metadata": {},
   "source": [
    "### Barack Obama"
   ]
  },
  {
   "cell_type": "code",
   "execution_count": 14,
   "metadata": {},
   "outputs": [
    {
     "name": "stderr",
     "output_type": "stream",
     "text": [
      "100%|██████████████████████████████████████████████████████████████████████████████████████████████████████████████████| 2704/2704 [00:27<00:00, 97.82it/s]\n",
      "C:\\Users\\dberr\\anaconda3\\lib\\site-packages\\seaborn\\_decorators.py:36: FutureWarning: Pass the following variables as keyword args: x, y. From version 0.12, the only valid positional argument will be `data`, and passing other arguments without an explicit keyword will result in an error or misinterpretation.\n",
      "  warnings.warn(\n"
     ]
    },
    {
     "data": {
      "image/png": "[encoded data removed]",
      "text/plain": [
       "<Figure size 1080x360 with 1 Axes>"
      ]
     },
     "metadata": {},
     "output_type": "display_data"
    }
   ],
   "source": [
    "words = {}\n",
    "for row in tqdm(tweetsPerPresidents['@BarackObama']):\n",
    "    doc = nlp(row.lower())\n",
    "    for token in doc:\n",
    "        if token.is_alpha and not token.is_stop:\n",
    "            if token.text in words:\n",
    "                num_temp = int(words[token.text])\n",
    "                words[token.text] = num_temp + 1\n",
    "            else:\n",
    "                words[token.text] = 1\n",
    "df_words = pd.DataFrame([[key, words[key]] for key in words.keys()], columns=['Word', 'Freq'])\n",
    "df_words.sort_values('Freq').tail(15)\n",
    "df_words = df_words[:20]\n",
    "df_words.head(10)\n",
    "plt.figure(figsize=(15,5))\n",
    "sns.barplot(df_words['Word'].values, df_words['Freq'].values)\n",
    "plt.title('Word Frequency')\n",
    "plt.ylabel('Freq', fontsize=10)\n",
    "plt.xlabel('Word', fontsize=10)\n",
    "plt.show()"
   ]
  },
  {
   "cell_type": "code",
   "execution_count": 15,
   "metadata": {},
   "outputs": [
    {
     "name": "stdout",
     "output_type": "stream",
     "text": [
      "Language: en\n",
      "Text Analysis: ['emoji', 'tagger', 'parser', 'stemmer', 'ner']\n"
     ]
    }
   ],
   "source": [
    "ta = TextAnalysis('en')"
   ]
  },
  {
   "cell_type": "markdown",
   "metadata": {},
   "source": [
    "### Obtener Metricas"
   ]
  },
  {
   "cell_type": "code",
   "execution_count": 16,
   "metadata": {},
   "outputs": [],
   "source": [
    "def getMetrics(userTweets):\n",
    "    setting = {'url': True, 'mention': True, 'emoji': True, 'hashtag': True, 'stopwords': False, 'relabel': True} \n",
    "    list_sentences = []\n",
    "\n",
    "    for row in tqdm(userTweets):\n",
    "        text = ta.clean_text(row, **setting)\n",
    "        list_sentences.append(text)\n",
    "        x = userTweets\n",
    "        y = []\n",
    "\n",
    "    for tweet in userTweets:\n",
    "        text = TextBlob(tweet)\n",
    "        polarity = text.sentiment.polarity\n",
    "        y.append(polarity)\n",
    "\n",
    "    def convertValuesToSentiments(y):\n",
    "        sentiment = []\n",
    "        for i in y:\n",
    "\n",
    "            if i > 0:\n",
    "                sentiment.append(\"Positive\")\n",
    "            elif i == 0:\n",
    "                sentiment.append(\"Neutral\")\n",
    "            else:\n",
    "                sentiment.append(\"Negative\")\n",
    "        return sentiment\n",
    "\n",
    "    y = convertValuesToSentiments(y)\n",
    "    #print('\\nX: {}    Y: {}'.format(len(x), len(y)))\n",
    "    #print('**Replica y_train:', sorted(Counter(y).items()))\n",
    "\n",
    "    x_train, x_test, y_train, y_test = train_test_split(x, y, test_size=0.30, random_state=0)\n",
    "    #print('\\n\\n**Replica train: {0}, size {1}'.format(sorted(Counter(y_train).items()), len(y_train)))\n",
    "    #print('**Replica test: {0}, size {1}'.format(sorted(Counter(y_test).items()), len(y_test)))\n",
    "\n",
    "    vec = CountVectorizer(min_df=5, ngram_range=(1,3), max_features=6517, strip_accents='unicode', analyzer='word')\n",
    "    vec.fit(x_train)\n",
    "    x_train = vec.transform(x_train)\n",
    "    x_test = vec.transform(x_test)\n",
    "    #print('\\n\\n',x_train.toarray())\n",
    "\n",
    "    ros = RandomOverSampler(random_state=1000)\n",
    "    x_train, y_train = ros.fit_resample(x_train, y_train)\n",
    "    x_test, y_test = ros.fit_resample(x_test, y_test)\n",
    "    #print('\\n\\n**RandomOverSampler train:', sorted(Counter(y_train).items()))\n",
    "    #print('**RandomOverSampler test:', sorted(Counter(y_test).items()))\n",
    "\n",
    "    classifier = LogisticRegression(C=10, solver='lbfgs', multi_class='multinomial',max_iter=1000) \n",
    "    classifier.fit(x_train, y_train)\n",
    "    y_pred = classifier.predict(x_test)\n",
    "    print('\\n',classification_report(y_test, y_pred))\n",
    "\n",
    "    cv_score = np.mean(cross_val_score(classifier, x_train, y_train, cv=5, scoring='accuracy'))\n",
    "    accuracy = accuracy_score(y_test, y_pred)\n",
    "    recall = recall_score(y_test, y_pred, average='macro')\n",
    "    precision = precision_score(y_test, y_pred, average='weighted')\n",
    "    f1 = f1_score(y_test, y_pred, average='weighted')\n",
    "    print('\\n\\n **** METRICAS *****')\n",
    "    print('\\nAccuracy: {}%'.format(round(accuracy, 2)*100))\n",
    "    print('Recall: {}%'.format(round(recall, 2)*100))\n",
    "    print('Precision: {}%'.format(round(precision, 2)*100))\n",
    "    print('F1: {}%'.format(round(f1, 2)*100))\n"
   ]
  },
  {
   "cell_type": "markdown",
   "metadata": {},
   "source": [
    "### Mostrar metricas"
   ]
  },
  {
   "cell_type": "markdown",
   "metadata": {},
   "source": [
    "### General"
   ]
  },
  {
   "cell_type": "code",
   "execution_count": 17,
   "metadata": {},
   "outputs": [
    {
     "name": "stderr",
     "output_type": "stream",
     "text": [
      "100%|███████████████████████████████████████████████████████████████████████████████████████████████████████████████| 6521/6521 [00:00<00:00, 20678.17it/s]\n"
     ]
    },
    {
     "name": "stdout",
     "output_type": "stream",
     "text": [
      "\n",
      "               precision    recall  f1-score   support\n",
      "\n",
      "    Negative       0.84      0.57      0.68       994\n",
      "     Neutral       0.75      0.87      0.81       994\n",
      "    Positive       0.73      0.85      0.79       994\n",
      "\n",
      "    accuracy                           0.76      2982\n",
      "   macro avg       0.77      0.76      0.76      2982\n",
      "weighted avg       0.77      0.76      0.76      2982\n",
      "\n",
      "\n",
      "\n",
      " **** METRICAS *****\n",
      "\n",
      "Accuracy: 76.0%\n",
      "Recall: 76.0%\n",
      "Precision: 77.0%\n",
      "F1: 76.0%\n"
     ]
    }
   ],
   "source": [
    "getMetrics(userTweets)"
   ]
  },
  {
   "cell_type": "markdown",
   "metadata": {},
   "source": [
    "### Donald Trump"
   ]
  },
  {
   "cell_type": "code",
   "execution_count": 18,
   "metadata": {},
   "outputs": [
    {
     "name": "stderr",
     "output_type": "stream",
     "text": [
      "100%|███████████████████████████████████████████████████████████████████████████████████████████████████████████████| 1297/1297 [00:00<00:00, 14006.54it/s]\n"
     ]
    },
    {
     "name": "stdout",
     "output_type": "stream",
     "text": [
      "\n",
      "               precision    recall  f1-score   support\n",
      "\n",
      "    Negative       0.77      0.53      0.63       161\n",
      "     Neutral       0.80      0.93      0.86       161\n",
      "    Positive       0.69      0.79      0.74       161\n",
      "\n",
      "    accuracy                           0.75       483\n",
      "   macro avg       0.75      0.75      0.74       483\n",
      "weighted avg       0.75      0.75      0.74       483\n",
      "\n",
      "\n",
      "\n",
      " **** METRICAS *****\n",
      "\n",
      "Accuracy: 75.0%\n",
      "Recall: 75.0%\n",
      "Precision: 75.0%\n",
      "F1: 74.0%\n"
     ]
    }
   ],
   "source": [
    "getMetrics(tweetsPerPresidents['@realDonaldTrump'])"
   ]
  },
  {
   "cell_type": "markdown",
   "metadata": {},
   "source": [
    "### Joe Biden"
   ]
  },
  {
   "cell_type": "code",
   "execution_count": 19,
   "metadata": {},
   "outputs": [
    {
     "name": "stderr",
     "output_type": "stream",
     "text": [
      "100%|███████████████████████████████████████████████████████████████████████████████████████████████████████████████| 2520/2520 [00:00<00:00, 16815.30it/s]\n"
     ]
    },
    {
     "name": "stdout",
     "output_type": "stream",
     "text": [
      "\n",
      "               precision    recall  f1-score   support\n",
      "\n",
      "    Negative       0.83      0.62      0.71       414\n",
      "     Neutral       0.79      0.71      0.75       414\n",
      "    Positive       0.61      0.83      0.70       414\n",
      "\n",
      "    accuracy                           0.72      1242\n",
      "   macro avg       0.74      0.72      0.72      1242\n",
      "weighted avg       0.74      0.72      0.72      1242\n",
      "\n",
      "\n",
      "\n",
      " **** METRICAS *****\n",
      "\n",
      "Accuracy: 72.0%\n",
      "Recall: 72.0%\n",
      "Precision: 74.0%\n",
      "F1: 72.0%\n"
     ]
    }
   ],
   "source": [
    "getMetrics(tweetsPerPresidents['@JoeBiden'])"
   ]
  },
  {
   "cell_type": "markdown",
   "metadata": {},
   "source": [
    "### Barack Obama"
   ]
  },
  {
   "cell_type": "code",
   "execution_count": 20,
   "metadata": {},
   "outputs": [
    {
     "name": "stderr",
     "output_type": "stream",
     "text": [
      "100%|███████████████████████████████████████████████████████████████████████████████████████████████████████████████| 2704/2704 [00:00<00:00, 13537.88it/s]\n"
     ]
    },
    {
     "name": "stdout",
     "output_type": "stream",
     "text": [
      "\n",
      "               precision    recall  f1-score   support\n",
      "\n",
      "    Negative       0.84      0.45      0.59       433\n",
      "     Neutral       0.65      0.84      0.73       433\n",
      "    Positive       0.71      0.83      0.76       433\n",
      "\n",
      "    accuracy                           0.71      1299\n",
      "   macro avg       0.73      0.71      0.69      1299\n",
      "weighted avg       0.73      0.71      0.69      1299\n",
      "\n",
      "\n",
      "\n",
      " **** METRICAS *****\n",
      "\n",
      "Accuracy: 71.0%\n",
      "Recall: 71.0%\n",
      "Precision: 73.0%\n",
      "F1: 69.0%\n"
     ]
    }
   ],
   "source": [
    "getMetrics(tweetsPerPresidents['@BarackObama'])"
   ]
  },
  {
   "cell_type": "code",
   "execution_count": null,
   "metadata": {},
   "outputs": [],
   "source": []
  }
 ],
 "metadata": {
  "kernelspec": {
   "display_name": "Python 3",
   "language": "python",
   "name": "python3"
  },
  "language_info": {
   "codemirror_mode": {
    "name": "ipython",
    "version": 3
   },
   "file_extension": ".py",
   "mimetype": "text/x-python",
   "name": "python",
   "nbconvert_exporter": "python",
   "pygments_lexer": "ipython3",
   "version": "3.8.5"
  }
 },
 "nbformat": 4,
 "nbformat_minor": 4
}
